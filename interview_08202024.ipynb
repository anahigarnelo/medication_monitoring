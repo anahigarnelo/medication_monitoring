{
  "nbformat": 4,
  "nbformat_minor": 0,
  "metadata": {
    "colab": {
      "provenance": [],
      "authorship_tag": "ABX9TyPnmMJdieCGdIErE6Mp6lov",
      "include_colab_link": true
    },
    "kernelspec": {
      "name": "python3",
      "display_name": "Python 3"
    },
    "language_info": {
      "name": "python"
    }
  },
  "cells": [
    {
      "cell_type": "markdown",
      "metadata": {
        "id": "view-in-github",
        "colab_type": "text"
      },
      "source": [
        "<a href=\"https://colab.research.google.com/github/anahigarnelo/medication_monitoring/blob/main/interview_08202024.ipynb\" target=\"_parent\"><img src=\"https://colab.research.google.com/assets/colab-badge.svg\" alt=\"Open In Colab\"/></a>"
      ]
    },
    {
      "cell_type": "code",
      "source": [
        "pip install boto3"
      ],
      "metadata": {
        "colab": {
          "base_uri": "https://localhost:8080/"
        },
        "id": "72zDzRZMJV0c",
        "outputId": "9c887af5-79d8-4438-cfa0-4054b1a9be39"
      },
      "execution_count": null,
      "outputs": [
        {
          "output_type": "stream",
          "name": "stdout",
          "text": [
            "Collecting boto3\n",
            "  Downloading boto3-1.35.0-py3-none-any.whl.metadata (6.6 kB)\n",
            "Collecting botocore<1.36.0,>=1.35.0 (from boto3)\n",
            "  Downloading botocore-1.35.0-py3-none-any.whl.metadata (5.7 kB)\n",
            "Collecting jmespath<2.0.0,>=0.7.1 (from boto3)\n",
            "  Downloading jmespath-1.0.1-py3-none-any.whl.metadata (7.6 kB)\n",
            "Collecting s3transfer<0.11.0,>=0.10.0 (from boto3)\n",
            "  Downloading s3transfer-0.10.2-py3-none-any.whl.metadata (1.7 kB)\n",
            "Requirement already satisfied: python-dateutil<3.0.0,>=2.1 in /usr/local/lib/python3.10/dist-packages (from botocore<1.36.0,>=1.35.0->boto3) (2.8.2)\n",
            "Requirement already satisfied: urllib3!=2.2.0,<3,>=1.25.4 in /usr/local/lib/python3.10/dist-packages (from botocore<1.36.0,>=1.35.0->boto3) (2.0.7)\n",
            "Requirement already satisfied: six>=1.5 in /usr/local/lib/python3.10/dist-packages (from python-dateutil<3.0.0,>=2.1->botocore<1.36.0,>=1.35.0->boto3) (1.16.0)\n",
            "Downloading boto3-1.35.0-py3-none-any.whl (139 kB)\n",
            "\u001b[2K   \u001b[90m━━━━━━━━━━━━━━━━━━━━━━━━━━━━━━━━━━━━━━━━\u001b[0m \u001b[32m139.1/139.1 kB\u001b[0m \u001b[31m2.8 MB/s\u001b[0m eta \u001b[36m0:00:00\u001b[0m\n",
            "\u001b[?25hDownloading botocore-1.35.0-py3-none-any.whl (12.5 MB)\n",
            "\u001b[2K   \u001b[90m━━━━━━━━━━━━━━━━━━━━━━━━━━━━━━━━━━━━━━━━\u001b[0m \u001b[32m12.5/12.5 MB\u001b[0m \u001b[31m46.7 MB/s\u001b[0m eta \u001b[36m0:00:00\u001b[0m\n",
            "\u001b[?25hDownloading jmespath-1.0.1-py3-none-any.whl (20 kB)\n",
            "Downloading s3transfer-0.10.2-py3-none-any.whl (82 kB)\n",
            "\u001b[2K   \u001b[90m━━━━━━━━━━━━━━━━━━━━━━━━━━━━━━━━━━━━━━━━\u001b[0m \u001b[32m82.7/82.7 kB\u001b[0m \u001b[31m4.8 MB/s\u001b[0m eta \u001b[36m0:00:00\u001b[0m\n",
            "\u001b[?25hInstalling collected packages: jmespath, botocore, s3transfer, boto3\n",
            "Successfully installed boto3-1.35.0 botocore-1.35.0 jmespath-1.0.1 s3transfer-0.10.2\n"
          ]
        }
      ]
    },
    {
      "cell_type": "markdown",
      "source": [
        "1. Lamdba function with missing logic\n",
        "  * Adherence Status:\n",
        "      * Adherent: When the total dosage taken by the patient matches the prescribed dosage.\n",
        "      * Non-Adherent: When the total dosage taken by the patient is less than the prescribed dosage.\n",
        "      * Overdose: When the total dosage taken by the patient is more than the prescribed dosage.\n",
        "  * Delayed Doses:\n",
        "    * Increment Delayed Doses: Track the number of times a patient took their medication late. If the schedule_adherence is marked as \"Late\", increment the count.\n",
        "  * Storing Doctor Statistics*(Optional)*:\n",
        "    * Doctor Statistics: Track and store statistics about doctors, such as the total dosage they've prescribed and the number of patients they are treating. This section is optional and can be implemented if needed."
      ],
      "metadata": {
        "id": "omWqwj8eGVTx"
      }
    },
    {
      "cell_type": "code",
      "execution_count": null,
      "metadata": {
        "id": "N_zxJUrwGP03"
      },
      "outputs": [],
      "source": [
        "import json\n",
        "import boto3\n",
        "from collections import defaultdict\n",
        "\n",
        "dynamodb = boto3.resource('dynamodb', region_name='us-east-1')\n",
        "table = dynamodb.Table('MedicationData')\n",
        "\n",
        "def lambda_handler(event, context):\n",
        "    # Get the patient_id from the event, if provided\n",
        "    patient_id_to_query = event.get('patient_id', None)\n",
        "\n",
        "    # Hardcoded data instead of reading from a CSV file\n",
        "    medication_data = [\n",
        "        {\n",
        "            'patient_id': 'P001',\n",
        "            'dosage': 150,\n",
        "            'medication': 'Aspirin',\n",
        "            'administered_at': '2024-08-01 09:00:00',\n",
        "            'prescribed_dosage': 200,\n",
        "            'prescribing_doctor': 'Dr. Smith',\n",
        "            'schedule_adherence': 'On Time'\n",
        "        },\n",
        "        {\n",
        "            'patient_id': 'P002',\n",
        "            'dosage': 100,\n",
        "            'medication': 'Ibuprofen',\n",
        "            'administered_at': '2024-08-01 10:00:00',\n",
        "            'prescribed_dosage': 100,\n",
        "            'prescribing_doctor': 'Dr. Jones',\n",
        "            'schedule_adherence': 'Late'\n",
        "        },\n",
        "        {\n",
        "            'patient_id': 'P001',\n",
        "            'dosage': 50,\n",
        "            'medication': 'Paracetamol',\n",
        "            'administered_at': '2024-08-01 11:00:00',\n",
        "            'prescribed_dosage': 50,\n",
        "            'prescribing_doctor': 'Dr. Smith',\n",
        "            'schedule_adherence': 'Late'\n",
        "        },\n",
        "        {\n",
        "            'patient_id': 'P003',\n",
        "            'dosage': 200,\n",
        "            'medication': 'Aspirin',\n",
        "            'administered_at': '2024-08-01 12:00:00',\n",
        "            'prescribed_dosage': 200,\n",
        "            'prescribing_doctor': 'Dr. Taylor',\n",
        "            'schedule_adherence': 'On Time'\n",
        "        },\n",
        "    ]\n",
        "\n",
        "    # Initialize dictionaries for processing\n",
        "    total_dosage = defaultdict(int)\n",
        "    adherence = {}\n",
        "    delayed_doses = defaultdict(int)\n",
        "    doctor_statistics = defaultdict(lambda: {'patients': set(), 'total_dosage': 0})\n",
        "\n",
        "    # Processing data\n",
        "    for entry in medication_data:\n",
        "        patient_id = entry['patient_id']\n",
        "        dosage = entry['dosage']\n",
        "        prescribed_dosage = entry['prescribed_dosage']\n",
        "        schedule_adherence = entry['schedule_adherence']\n",
        "        doctor_id = entry['prescribing_doctor']\n",
        "\n",
        "        total_dosage[patient_id] += dosage\n",
        "\n",
        "        # Adherence Status Logic\n",
        "        # Missing logic to determine adherence status\n",
        "\n",
        "        # Delayed Doses Logic\n",
        "        # Missing logic to track delayed doses\n",
        "\n",
        "        # Track doctor statistics\n",
        "        # Missing logic to track doctor statistics\n",
        "\n",
        "    # If a specific patient_id was requested, return only that patient's data\n",
        "    if patient_id_to_query:\n",
        "        if patient_id_to_query in adherence:\n",
        "            return {\n",
        "                'statusCode': 200,\n",
        "                'body': json.dumps({\n",
        "                    'patient_id': patient_id_to_query,\n",
        "                    'adherence_status': adherence[patient_id_to_query],\n",
        "                    'total_dosage': total_dosage[patient_id_to_query],\n",
        "                    'delayed_doses': delayed_doses[patient_id_to_query]\n",
        "                })\n",
        "            }\n",
        "        else:\n",
        "            return {\n",
        "                'statusCode': 404,\n",
        "                'body': json.dumps({\n",
        "                    'error': f\"Patient ID {patient_id_to_query} not found.\"\n",
        "                })\n",
        "            }\n",
        "\n",
        "    # If no specific patient_id was requested, return data for all patients\n",
        "    all_patients_data = []\n",
        "    for patient_id in adherence:\n",
        "        all_patients_data.append({\n",
        "            'patient_id': patient_id,\n",
        "            'adherence_status': adherence[patient_id],\n",
        "            'total_dosage': total_dosage[patient_id],\n",
        "            'delayed_doses': delayed_doses[patient_id]\n",
        "        })\n",
        "\n",
        "    return {\n",
        "        'statusCode': 200,\n",
        "        'body': json.dumps(all_patients_data)\n",
        "    }\n",
        "\n",
        "def store_in_dynamodb(patient_id, adherence_status, delayed_doses):\n",
        "    try:\n",
        "        table.put_item(\n",
        "            Item={\n",
        "                'patient_id': patient_id,\n",
        "                'adherence_status': adherence_status,\n",
        "                'delayed_doses': delayed_doses\n",
        "            }\n",
        "        )\n",
        "    except Exception as e:\n",
        "        print(f\"Error storing data in DynamoDB: {str(e)}\")\n",
        "\n",
        "def store_doctor_statistics(doctor_id, stats):\n",
        "    try:\n",
        "        table.put_item(\n",
        "            Item={\n",
        "                'doctor_id': doctor_id,\n",
        "                'total_dosage': stats['total_dosage'],\n",
        "                'patient_count': len(stats['patients'])\n",
        "            }\n",
        "        )\n",
        "    except Exception as e:\n",
        "        print(f\"Error storing doctor statistics in DynamoDB: {str(e)}\")\n"
      ]
    },
    {
      "cell_type": "code",
      "source": [
        "# Mock event and context for local testing\n",
        "event = {\n",
        "    \"patient_id\": \"P001\"\n",
        "}\n",
        "context = {}\n",
        "\n",
        "# Run the Lambda function locally\n",
        "response = lambda_handler(event, context)\n",
        "print(json.dumps(response, indent=4))"
      ],
      "metadata": {
        "colab": {
          "base_uri": "https://localhost:8080/"
        },
        "id": "KjdfZW2oidaO",
        "outputId": "fe9de3d4-b60a-47a3-cc83-6367210ab60f"
      },
      "execution_count": null,
      "outputs": [
        {
          "output_type": "stream",
          "name": "stdout",
          "text": [
            "{\n",
            "    \"statusCode\": 404,\n",
            "    \"body\": \"{\\\"error\\\": \\\"Patient ID P001 not found.\\\"}\"\n",
            "}\n"
          ]
        }
      ]
    },
    {
      "cell_type": "code",
      "source": [],
      "metadata": {
        "id": "gEUVxF_smP94"
      },
      "execution_count": null,
      "outputs": []
    },
    {
      "cell_type": "markdown",
      "source": [
        "2. What unit tests would you write to test out functionality?"
      ],
      "metadata": {
        "id": "KCTF0oY8i6p5"
      }
    },
    {
      "cell_type": "markdown",
      "source": [
        "3. How would you refactor the following aspects of the code to make it more efficient?\n"
      ],
      "metadata": {
        "id": "cQ0-uhbAig4L"
      }
    },
    {
      "cell_type": "markdown",
      "source": [
        "4. How would you improve the Lambda function itself to handle larger datasets efficiently and scale as needed?"
      ],
      "metadata": {
        "id": "orTrAWU0jVGF"
      }
    },
    {
      "cell_type": "markdown",
      "source": [
        "5. Backup that can run on https://onecompiler.com/python"
      ],
      "metadata": {
        "id": "zyEZ4szYnR6x"
      }
    },
    {
      "cell_type": "code",
      "source": [
        "import json\n",
        "from collections import defaultdict\n",
        "\n",
        "def lambda_handler(event, context):\n",
        "    # Get the patient_id from the event, if provided\n",
        "    patient_id_to_query = event.get('patient_id', None)\n",
        "\n",
        "    # Hardcoded data instead of reading from a CSV file\n",
        "    medication_data = [\n",
        "        {\n",
        "            'patient_id': 'P001',\n",
        "            'dosage': 150,\n",
        "            'medication': 'Aspirin',\n",
        "            'administered_at': '2024-08-01 09:00:00',\n",
        "            'prescribed_dosage': 200,\n",
        "            'prescribing_doctor': 'Dr. Smith',\n",
        "            'schedule_adherence': 'On Time'\n",
        "        },\n",
        "        {\n",
        "            'patient_id': 'P002',\n",
        "            'dosage': 100,\n",
        "            'medication': 'Ibuprofen',\n",
        "            'administered_at': '2024-08-01 10:00:00',\n",
        "            'prescribed_dosage': 100,\n",
        "            'prescribing_doctor': 'Dr. Jones',\n",
        "            'schedule_adherence': 'Late'\n",
        "        },\n",
        "        {\n",
        "            'patient_id': 'P001',\n",
        "            'dosage': 50,\n",
        "            'medication': 'Paracetamol',\n",
        "            'administered_at': '2024-08-01 11:00:00',\n",
        "            'prescribed_dosage': 50,\n",
        "            'prescribing_doctor': 'Dr. Smith',\n",
        "            'schedule_adherence': 'Late'\n",
        "        },\n",
        "        {\n",
        "            'patient_id': 'P003',\n",
        "            'dosage': 200,\n",
        "            'medication': 'Aspirin',\n",
        "            'administered_at': '2024-08-01 12:00:00',\n",
        "            'prescribed_dosage': 200,\n",
        "            'prescribing_doctor': 'Dr. Taylor',\n",
        "            'schedule_adherence': 'On Time'\n",
        "        },\n",
        "    ]\n",
        "\n",
        "    # Initialize dictionaries for processing\n",
        "    total_dosage = defaultdict(int)\n",
        "    adherence = {}\n",
        "    delayed_doses = defaultdict(int)\n",
        "    doctor_statistics = defaultdict(lambda: {'patients': set(), 'total_dosage': 0})\n",
        "\n",
        "    # Processing data\n",
        "    for entry in medication_data:\n",
        "        patient_id = entry['patient_id']\n",
        "        dosage = entry['dosage']\n",
        "        prescribed_dosage = entry['prescribed_dosage']\n",
        "        schedule_adherence = entry['schedule_adherence']\n",
        "        doctor_id = entry['prescribing_doctor']\n",
        "\n",
        "        total_dosage[patient_id] += dosage\n",
        "\n",
        "        # Adherence Status Logic\n",
        "        # Missing logic to determine adherence status\n",
        "\n",
        "        # Delayed Doses Logic\n",
        "        # Missing logic to track delayed doses\n",
        "\n",
        "        # Track doctor statistics\n",
        "        # Missing logic to track doctor statistics\n",
        "\n",
        "    # If a specific patient_id was requested, return only that patient's data\n",
        "    if patient_id_to_query:\n",
        "        if patient_id_to_query in adherence:\n",
        "            return {\n",
        "                'statusCode': 200,\n",
        "                'body': json.dumps({\n",
        "                    'patient_id': patient_id_to_query,\n",
        "                    'adherence_status': adherence[patient_id_to_query],\n",
        "                    'total_dosage': total_dosage[patient_id_to_query],\n",
        "                    'delayed_doses': delayed_doses[patient_id_to_query]\n",
        "                })\n",
        "            }\n",
        "        else:\n",
        "            return {\n",
        "                'statusCode': 404,\n",
        "                'body': json.dumps({\n",
        "                    'error': f\"Patient ID {patient_id_to_query} not found.\"\n",
        "                })\n",
        "            }\n",
        "\n",
        "    # If no specific patient_id was requested, return data for all patients\n",
        "    all_patients_data = []\n",
        "    for patient_id in adherence:\n",
        "        all_patients_data.append({\n",
        "            'patient_id': patient_id,\n",
        "            'adherence_status': adherence[patient_id],\n",
        "            'total_dosage': total_dosage[patient_id],\n",
        "            'delayed_doses': delayed_doses[patient_id]\n",
        "        })\n",
        "\n",
        "    return {\n",
        "        'statusCode': 200,\n",
        "        'body': json.dumps(all_patients_data)\n",
        "    }\n"
      ],
      "metadata": {
        "id": "ZQUTIa2-mwpD"
      },
      "execution_count": null,
      "outputs": []
    },
    {
      "cell_type": "code",
      "source": [
        "# Mock event and context for local testing\n",
        "event = {\n",
        "    \"patient_id\": \"P001\"\n",
        "}\n",
        "context = {}\n",
        "\n",
        "# Run the Lambda function locally\n",
        "response = lambda_handler(event, context)\n",
        "print(json.dumps(response, indent=4))"
      ],
      "metadata": {
        "colab": {
          "base_uri": "https://localhost:8080/"
        },
        "id": "k7bzzwgmnD2s",
        "outputId": "b8c2cfc0-3d95-4d45-f5ab-e2a54c5ae1f1"
      },
      "execution_count": null,
      "outputs": [
        {
          "output_type": "stream",
          "name": "stdout",
          "text": [
            "{\n",
            "    \"statusCode\": 404,\n",
            "    \"body\": \"{\\\"error\\\": \\\"Patient ID P001 not found.\\\"}\"\n",
            "}\n"
          ]
        }
      ]
    }
  ]
}